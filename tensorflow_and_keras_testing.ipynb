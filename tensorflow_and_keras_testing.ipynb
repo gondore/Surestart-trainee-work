{
  "nbformat": 4,
  "nbformat_minor": 0,
  "metadata": {
    "kernelspec": {
      "display_name": "Python 3",
      "language": "python",
      "name": "python3"
    },
    "language_info": {
      "codemirror_mode": {
        "name": "ipython",
        "version": 3
      },
      "file_extension": ".py",
      "mimetype": "text/x-python",
      "name": "python",
      "nbconvert_exporter": "python",
      "pygments_lexer": "ipython3",
      "version": "3.8.3"
    },
    "colab": {
      "name": "tensorflow and keras testing.ipynb",
      "provenance": [],
      "collapsed_sections": []
    }
  },
  "cells": [
    {
      "cell_type": "code",
      "metadata": {
        "colab": {
          "base_uri": "https://localhost:8080/"
        },
        "id": "1mNerB-ZRvxq",
        "outputId": "8d9cdda7-f8c4-4f78-a002-08d0e211127a"
      },
      "source": [
        "import tensorflow as tf\n",
        "import os\n",
        "import sys\n",
        "\n",
        "\n",
        "# Initialize two constants\n",
        "x1 = tf.constant([1,2,3,4])\n",
        "x2 = tf.constant([5,6,7,8])\n",
        "\n",
        "# Multiply\n",
        "result = tf.multiply(x1, x2)\n",
        "\n",
        "# Print the result\n",
        "print(result)\n",
        "\n",
        "\n"
      ],
      "execution_count": 88,
      "outputs": [
        {
          "output_type": "stream",
          "text": [
            "tf.Tensor([ 5 12 21 32], shape=(4,), dtype=int32)\n"
          ],
          "name": "stdout"
        }
      ]
    },
    {
      "cell_type": "code",
      "metadata": {
        "scrolled": true,
        "colab": {
          "base_uri": "https://localhost:8080/",
          "height": 327
        },
        "id": "VZzCPdC3Rvx1",
        "outputId": "67bb02ae-0774-4c3c-e558-8a4d2c2fab6a"
      },
      "source": [
        "def load_data(data_directory):\n",
        "    directories = [d for d in os.listdir(data_directory) \n",
        "                   if os.path.isdir(os.path.join(data_directory, d))]\n",
        "    labels = []\n",
        "    images = []\n",
        "    for d in directories:\n",
        "        label_directory = os.path.join(data_directory, d)\n",
        "        file_names = [os.path.join(label_directory, f) \n",
        "                      for f in os.listdir(label_directory) \n",
        "                      if f.endswith(\".ppm\")]\n",
        "        for f in file_names:\n",
        "            images.append(io.imread(f))\n",
        "            labels.append(int(d))\n",
        "    return images, labels\n",
        "\n",
        "ROOT_PATH = r\"C:\\Users\\bunbo\\Documents\\TrafficSigns\"\n",
        "train_data_directory = os.path.join(ROOT_PATH,\"Training\")\n",
        "test_data_directory = os.path.join(ROOT_PATH,\"Testing\")\n",
        "\n",
        "images, labels = load_data(train_data_directory)"
      ],
      "execution_count": 89,
      "outputs": [
        {
          "output_type": "error",
          "ename": "FileNotFoundError",
          "evalue": "ignored",
          "traceback": [
            "\u001b[0;31m---------------------------------------------------------------------------\u001b[0m",
            "\u001b[0;31mFileNotFoundError\u001b[0m                         Traceback (most recent call last)",
            "\u001b[0;32m<ipython-input-89-1f9078ac94b6>\u001b[0m in \u001b[0;36m<module>\u001b[0;34m()\u001b[0m\n\u001b[1;32m     18\u001b[0m \u001b[0mtest_data_directory\u001b[0m \u001b[0;34m=\u001b[0m \u001b[0mos\u001b[0m\u001b[0;34m.\u001b[0m\u001b[0mpath\u001b[0m\u001b[0;34m.\u001b[0m\u001b[0mjoin\u001b[0m\u001b[0;34m(\u001b[0m\u001b[0mROOT_PATH\u001b[0m\u001b[0;34m,\u001b[0m\u001b[0;34m\"Testing\"\u001b[0m\u001b[0;34m)\u001b[0m\u001b[0;34m\u001b[0m\u001b[0;34m\u001b[0m\u001b[0m\n\u001b[1;32m     19\u001b[0m \u001b[0;34m\u001b[0m\u001b[0m\n\u001b[0;32m---> 20\u001b[0;31m \u001b[0mimages\u001b[0m\u001b[0;34m,\u001b[0m \u001b[0mlabels\u001b[0m \u001b[0;34m=\u001b[0m \u001b[0mload_data\u001b[0m\u001b[0;34m(\u001b[0m\u001b[0mtrain_data_directory\u001b[0m\u001b[0;34m)\u001b[0m\u001b[0;34m\u001b[0m\u001b[0;34m\u001b[0m\u001b[0m\n\u001b[0m",
            "\u001b[0;32m<ipython-input-89-1f9078ac94b6>\u001b[0m in \u001b[0;36mload_data\u001b[0;34m(data_directory)\u001b[0m\n\u001b[1;32m      1\u001b[0m \u001b[0;32mdef\u001b[0m \u001b[0mload_data\u001b[0m\u001b[0;34m(\u001b[0m\u001b[0mdata_directory\u001b[0m\u001b[0;34m)\u001b[0m\u001b[0;34m:\u001b[0m\u001b[0;34m\u001b[0m\u001b[0;34m\u001b[0m\u001b[0m\n\u001b[0;32m----> 2\u001b[0;31m     directories = [d for d in os.listdir(data_directory) \n\u001b[0m\u001b[1;32m      3\u001b[0m                    if os.path.isdir(os.path.join(data_directory, d))]\n\u001b[1;32m      4\u001b[0m     \u001b[0mlabels\u001b[0m \u001b[0;34m=\u001b[0m \u001b[0;34m[\u001b[0m\u001b[0;34m]\u001b[0m\u001b[0;34m\u001b[0m\u001b[0;34m\u001b[0m\u001b[0m\n\u001b[1;32m      5\u001b[0m     \u001b[0mimages\u001b[0m \u001b[0;34m=\u001b[0m \u001b[0;34m[\u001b[0m\u001b[0;34m]\u001b[0m\u001b[0;34m\u001b[0m\u001b[0;34m\u001b[0m\u001b[0m\n",
            "\u001b[0;31mFileNotFoundError\u001b[0m: [Errno 2] No such file or directory: 'C:\\\\Users\\\\bunbo\\\\Documents\\\\TrafficSigns/Training'"
          ]
        }
      ]
    },
    {
      "cell_type": "code",
      "metadata": {
        "colab": {
          "base_uri": "https://localhost:8080/",
          "height": 345
        },
        "id": "ga30NiOvRvx2",
        "outputId": "b1f7ae4f-7b8f-47d7-f794-aa26b2d84ff9"
      },
      "source": [
        "def load_data(data_directory):\n",
        "    directories = [d for d in os.listdir(data_directory) \n",
        "                   if os.path.isdir(os.path.join(data_directory, d))]\n",
        "    labels = []\n",
        "    images = []\n",
        "    for d in directories:\n",
        "        label_directory = os.path.join(data_directory, d)\n",
        "        file_names = [os.path.join(label_directory, f) \n",
        "                      for f in os.listdir(label_directory) \n",
        "                      if f.endswith(\".ppm\")]\n",
        "        for f in file_names:\n",
        "            images.append(skimage.data.imread(f))\n",
        "            labels.append(int(d))\n",
        "    return images, labels\n",
        "\n",
        "ROOT_PATH = \"/your/root/path\"\n",
        "train_data_directory = os.path.join(ROOT_PATH, \"TrafficSigns/Training\")\n",
        "test_data_directory = os.path.join(ROOT_PATH, \"TrafficSigns/Testing\")\n",
        "\n",
        "images, labels = load_data(train_data_directory)\n"
      ],
      "execution_count": null,
      "outputs": [
        {
          "output_type": "error",
          "ename": "FileNotFoundError",
          "evalue": "ignored",
          "traceback": [
            "\u001b[0;31m---------------------------------------------------------------------------\u001b[0m",
            "\u001b[0;31mFileNotFoundError\u001b[0m                         Traceback (most recent call last)",
            "\u001b[0;32m<ipython-input-33-fef86b56b68b>\u001b[0m in \u001b[0;36m<module>\u001b[0;34m()\u001b[0m\n\u001b[1;32m     18\u001b[0m \u001b[0mtest_data_directory\u001b[0m \u001b[0;34m=\u001b[0m \u001b[0mos\u001b[0m\u001b[0;34m.\u001b[0m\u001b[0mpath\u001b[0m\u001b[0;34m.\u001b[0m\u001b[0mjoin\u001b[0m\u001b[0;34m(\u001b[0m\u001b[0mROOT_PATH\u001b[0m\u001b[0;34m,\u001b[0m \u001b[0;34m\"TrafficSigns/Testing\"\u001b[0m\u001b[0;34m)\u001b[0m\u001b[0;34m\u001b[0m\u001b[0;34m\u001b[0m\u001b[0m\n\u001b[1;32m     19\u001b[0m \u001b[0;34m\u001b[0m\u001b[0m\n\u001b[0;32m---> 20\u001b[0;31m \u001b[0mimages\u001b[0m\u001b[0;34m,\u001b[0m \u001b[0mlabels\u001b[0m \u001b[0;34m=\u001b[0m \u001b[0mload_data\u001b[0m\u001b[0;34m(\u001b[0m\u001b[0mtrain_data_directory\u001b[0m\u001b[0;34m)\u001b[0m\u001b[0;34m\u001b[0m\u001b[0;34m\u001b[0m\u001b[0m\n\u001b[0m",
            "\u001b[0;32m<ipython-input-33-fef86b56b68b>\u001b[0m in \u001b[0;36mload_data\u001b[0;34m(data_directory)\u001b[0m\n\u001b[1;32m      1\u001b[0m \u001b[0;32mdef\u001b[0m \u001b[0mload_data\u001b[0m\u001b[0;34m(\u001b[0m\u001b[0mdata_directory\u001b[0m\u001b[0;34m)\u001b[0m\u001b[0;34m:\u001b[0m\u001b[0;34m\u001b[0m\u001b[0;34m\u001b[0m\u001b[0m\n\u001b[0;32m----> 2\u001b[0;31m     directories = [d for d in os.listdir(data_directory) \n\u001b[0m\u001b[1;32m      3\u001b[0m                    if os.path.isdir(os.path.join(data_directory, d))]\n\u001b[1;32m      4\u001b[0m     \u001b[0mlabels\u001b[0m \u001b[0;34m=\u001b[0m \u001b[0;34m[\u001b[0m\u001b[0;34m]\u001b[0m\u001b[0;34m\u001b[0m\u001b[0;34m\u001b[0m\u001b[0m\n\u001b[1;32m      5\u001b[0m     \u001b[0mimages\u001b[0m \u001b[0;34m=\u001b[0m \u001b[0;34m[\u001b[0m\u001b[0;34m]\u001b[0m\u001b[0;34m\u001b[0m\u001b[0;34m\u001b[0m\u001b[0m\n",
            "\u001b[0;31mFileNotFoundError\u001b[0m: [Errno 2] No such file or directory: '/your/root/path/TrafficSigns/Training'"
          ]
        }
      ]
    },
    {
      "cell_type": "code",
      "metadata": {
        "id": "59foYXTYRvx3"
      },
      "source": [
        ""
      ],
      "execution_count": null,
      "outputs": []
    }
  ]
}